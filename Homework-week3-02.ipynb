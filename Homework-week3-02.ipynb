{
 "cells": [
  {
   "cell_type": "markdown",
   "metadata": {},
   "source": [
    "# Assignment-02"
   ]
  },
  {
   "cell_type": "markdown",
   "metadata": {},
   "source": [
    "## Why do we need machine learning methods instead of creating a complicated formula?"
   ]
  },
  {
   "cell_type": "markdown",
   "metadata": {},
   "source": [
    "这不符合 Data Driven 的理念，我们希望让数据自己说话。复杂的公式太依赖人的发现，有可能在参数较少的情况下能总结出来，但是复杂的情况，我们可能无法给一个合适的函数。而且，这样的思路导致可移植性太差。"
   ]
  },
  {
   "cell_type": "markdown",
   "metadata": {},
   "source": [
    "## What's the disadvantages of the 1st Random Choosen methods in our course?"
   ]
  },
  {
   "cell_type": "markdown",
   "metadata": {},
   "source": [
    "四处漫无目的的寻找，效率太低。而且，对于我们理解问题本身缺乏帮助。"
   ]
  },
  {
   "cell_type": "markdown",
   "metadata": {},
   "source": [
    "## Is the 2nd method supervised direction better than 1st one? What's the disadvantages of the 2nd supversied directin method?"
   ]
  },
  {
   "cell_type": "markdown",
   "metadata": {},
   "source": [
    "第二种确实要比第一种好一些，它是按照一个方向收敛的进行，我们可以看到，相比于不断的尝试，第二种方法迅速地找到了正确的方向。但是，第二种也有不好之处，我们随机寻找搜索空间很大，可能从全局上看是好的，而快速陷入一个方向则有可能忽略其他方向的优势（本例中应该不存在）。"
   ]
  },
  {
   "cell_type": "markdown",
   "metadata": {},
   "source": [
    "## Why do we use Derivative / Gredient to fit a target function? "
   ]
  },
  {
   "cell_type": "markdown",
   "metadata": {},
   "source": [
    "导数直接揭示了函数的单调性，我们希望目标函数尽量小，从导数考虑最合适了。"
   ]
  },
  {
   "cell_type": "markdown",
   "metadata": {},
   "source": [
    "## In the words 'Gredient Descent', what's the Gredient and what's the Descent?"
   ]
  },
  {
   "cell_type": "markdown",
   "metadata": {},
   "source": [
    "“梯度”是一个向量，它的方向是最大的方向导数的方向，它的大小是最大方向的导数值。所以，沿着这个方向“下降”，速度最快，收敛最快。"
   ]
  },
  {
   "cell_type": "markdown",
   "metadata": {},
   "source": [
    "## What's the advantages of the 3rd gradient descent method compared to the previous methods?"
   ]
  },
  {
   "cell_type": "markdown",
   "metadata": {},
   "source": [
    "思路清楚，效率高，很快收敛到比较好的结果了。"
   ]
  },
  {
   "cell_type": "markdown",
   "metadata": {},
   "source": [
    " ## Using the simple words to describe: What's the machine leanring."
   ]
  },
  {
   "cell_type": "markdown",
   "metadata": {},
   "source": [
    "不是人具体的进行编程分析问题的每一步。在已有数据基础上，调整模型进行预测。关键点：非直接编程；基于已有数据；预测；"
   ]
  }
 ],
 "metadata": {
  "kernelspec": {
   "display_name": "Python 3",
   "language": "python",
   "name": "python3"
  },
  "language_info": {
   "codemirror_mode": {
    "name": "ipython",
    "version": 3
   },
   "file_extension": ".py",
   "mimetype": "text/x-python",
   "name": "python",
   "nbconvert_exporter": "python",
   "pygments_lexer": "ipython3",
   "version": "3.7.0"
  }
 },
 "nbformat": 4,
 "nbformat_minor": 2
}
