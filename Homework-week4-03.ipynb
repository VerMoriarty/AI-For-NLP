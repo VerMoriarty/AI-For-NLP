{
 "cells": [
  {
   "cell_type": "markdown",
   "metadata": {},
   "source": [
    "# Answer the following questions:"
   ]
  },
  {
   "cell_type": "markdown",
   "metadata": {},
   "source": [
    "## 1. Why do we need dynamic programming? What's the difference of dynamic programming and previous talked search problme?"
   ]
  },
  {
   "cell_type": "markdown",
   "metadata": {},
   "source": [
    "我们可能会想到一个直接的递归的解答，但是，递归本身有太多的重复计算导致效率低下，这时如果我们采取动态规划的办法，把计算的结果存储起来，则会避免重复计算的时间，大大提高运行时间。动态规划不是全局的搜索，一般来说，我们有一个子问题的处理方式，再利用递归的办法完成任务。DP还是暴力，我们的算法都是在可能解空间内，寻找最优解。　　\n",
    "来看钞票问题。暴力做法是枚举所有的可能解，这是最大的可能解空间。动态规划是枚举有希望成为答案的解。这个空间比暴力的小得多。从而我们可以得到DP的核心思想：尽量缩小可能解空间。在暴力算法中，可能解空间往往是指数级的大小；如果我们采用DP，那么有可能把解空间的大小降到多项式。一般来说，解空间越小，寻找解就越快。这样就完成了优化。\n",
    "\n",
    "参考链接：https://www.zhihu.com/question/23995189/answer/613096905\n"
   ]
  },
  {
   "cell_type": "markdown",
   "metadata": {},
   "source": [
    "## 2. Why do we still need dynamic programming? Why not we train a machine learning to fit a function which could get the right answer based on inputs?"
   ]
  },
  {
   "cell_type": "markdown",
   "metadata": {},
   "source": [
    "比如机器学习，神经网络的办法是用概率的办法找到近似解。它在很多情况下需要有大量的数据支持。所以，在数据规模较小的情况下，我们用神经网络效果就不会很好。其次，在我们需要精确解时，机器学习的办法可能不能给出。还有一些情况，没有必要应用神经网络。可能只是训练上都要很久，但是用直接编程的话可能较为轻松地解决。"
   ]
  },
  {
   "cell_type": "markdown",
   "metadata": {},
   "source": [
    "## 3. Can you catch up at least 3 problems which could solved by Dynamic Programming?"
   ]
  },
  {
   "cell_type": "markdown",
   "metadata": {},
   "source": [
    "老师在课上讲了几个例子：\n",
    "1. 瓷器切割问题\n",
    "2. 路线设计\n",
    "3. 美团外卖的安排\n",
    "4. Needleman-Wunch 算法是生物信息学序列\n",
    "5. 编辑距离（4 也可以认为是这个的变种）"
   ]
  },
  {
   "cell_type": "markdown",
   "metadata": {},
   "source": [
    "## 4. Can you catch up at least 3 problems which can be sloved by Edit Distance?"
   ]
  },
  {
   "cell_type": "markdown",
   "metadata": {},
   "source": [
    "1. DNA 序列比对\n",
    "2. 和概率模型一起，实现拼写检查\n",
    "3. 语音识别的效果检查\n",
    "4. 文稿查重"
   ]
  },
  {
   "cell_type": "markdown",
   "metadata": {},
   "source": [
    "## 5. Please summarize the three main features of Dynamic Programming, and make a concise explain for each feature."
   ]
  },
  {
   "cell_type": "markdown",
   "metadata": {},
   "source": [
    "1. 分析子问题的重复性：将一个问题拆成几个子问题，子问题不断重复。\n",
    "2. 子问题进行存储：利用这些重复的结果使得我们高效计算。\n",
    "3. Solution 要进行解析：分别求解这些子问题，即可推断出大问题的解。"
   ]
  },
  {
   "cell_type": "markdown",
   "metadata": {},
   "source": [
    "## 6. What are the disadvantages of Dynamic Programming?"
   ]
  },
  {
   "cell_type": "markdown",
   "metadata": {},
   "source": [
    "动态规划的一个限制就是：大问题的最优解可以由小问题的最优解推出。有的情况不是的，比如寻找 \n",
    "\n",
    "$$x^5+y^5=z^5$$\n",
    "\n",
    "的整数解这种，没有直接的办法找到合适的子问题来逼近原问题。\n",
    "因为动态规划要存储子问题的结果，所以，要是数据量太大，会占内存，这也是我们要考虑的。\n",
    "动态规划要求无后效性：一个简单的例子是，找一个图的生成树，每一步都和之前的状态有关。\n",
    "这些问题是动态规划处理不了的。"
   ]
  }
 ],
 "metadata": {
  "kernelspec": {
   "display_name": "Python 3",
   "language": "python",
   "name": "python3"
  },
  "language_info": {
   "codemirror_mode": {
    "name": "ipython",
    "version": 3
   },
   "file_extension": ".py",
   "mimetype": "text/x-python",
   "name": "python",
   "nbconvert_exporter": "python",
   "pygments_lexer": "ipython3",
   "version": "3.7.0"
  }
 },
 "nbformat": 4,
 "nbformat_minor": 2
}
